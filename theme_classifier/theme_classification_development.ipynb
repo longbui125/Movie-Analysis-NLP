{
 "cells": [
  {
   "cell_type": "code",
   "execution_count": 75,
   "id": "ac19da91",
   "metadata": {},
   "outputs": [],
   "source": [
    "from transformers import pipeline\n",
    "from nltk import sent_tokenize\n",
    "import nltk\n",
    "import torch\n",
    "from glob import glob\n",
    "import pandas as pd\n",
    "import numpy as np"
   ]
  },
  {
   "cell_type": "code",
   "execution_count": 3,
   "id": "695b04c0",
   "metadata": {},
   "outputs": [
    {
     "name": "stderr",
     "output_type": "stream",
     "text": [
      "[nltk_data] Downloading package punkt to\n",
      "[nltk_data]     C:\\Users\\slywi\\AppData\\Roaming\\nltk_data...\n",
      "[nltk_data]   Unzipping tokenizers\\punkt.zip.\n"
     ]
    },
    {
     "data": {
      "text/plain": [
       "True"
      ]
     },
     "execution_count": 3,
     "metadata": {},
     "output_type": "execute_result"
    }
   ],
   "source": [
    "nltk.download('punkt')"
   ]
  },
  {
   "cell_type": "markdown",
   "id": "c8c88426",
   "metadata": {},
   "source": [
    "## Load model"
   ]
  },
  {
   "cell_type": "code",
   "execution_count": 5,
   "id": "fa231465",
   "metadata": {},
   "outputs": [],
   "source": [
    "model_name = 'facebook/bart-large-mnli'\n",
    "device = 0 if torch.cuda.is_available() else 'cpu'"
   ]
  },
  {
   "cell_type": "code",
   "execution_count": 7,
   "id": "eb8eb780",
   "metadata": {},
   "outputs": [],
   "source": [
    "def load_model(device):\n",
    "    theme_classifier = pipeline(\n",
    "        \"zero-shot-classification\",\n",
    "        model=model_name,\n",
    "        device=device\n",
    "    )\n",
    "\n",
    "    return theme_classifier"
   ]
  },
  {
   "cell_type": "code",
   "execution_count": 8,
   "id": "5a89b26a",
   "metadata": {},
   "outputs": [
    {
     "name": "stderr",
     "output_type": "stream",
     "text": [
      "c:\\Users\\slywi\\anaconda3\\envs\\tf_gpu\\lib\\site-packages\\huggingface_hub\\file_download.py:159: UserWarning: `huggingface_hub` cache-system uses symlinks by default to efficiently store duplicated files but your machine does not support them in C:\\Users\\slywi\\.cache\\huggingface\\hub\\models--facebook--bart-large-mnli. Caching files will still work but in a degraded version that might require more space on your disk. This warning can be disabled by setting the `HF_HUB_DISABLE_SYMLINKS_WARNING` environment variable. For more details, see https://huggingface.co/docs/huggingface_hub/how-to-cache#limitations.\n",
      "To support symlinks on Windows, you either need to activate Developer Mode or to run Python as an administrator. In order to see activate developer mode, see this article: https://docs.microsoft.com/en-us/windows/apps/get-started/enable-your-device-for-development\n",
      "  warnings.warn(message)\n",
      "c:\\Users\\slywi\\anaconda3\\envs\\tf_gpu\\lib\\site-packages\\transformers\\tokenization_utils_base.py:1601: FutureWarning: `clean_up_tokenization_spaces` was not set. It will be set to `True` by default. This behavior will be depracted in transformers v4.45, and will be then set to `False` by default. For more details check this issue: https://github.com/huggingface/transformers/issues/31884\n",
      "  warnings.warn(\n"
     ]
    }
   ],
   "source": [
    "theme_classifier = load_model(device)"
   ]
  },
  {
   "cell_type": "code",
   "execution_count": 15,
   "id": "51f2cafb",
   "metadata": {},
   "outputs": [],
   "source": [
    "theme_list = [ \"love\", \"romance\", \"comedy\", \"drama\",\n",
    "    \"business\", \"office\", \"friendship\",\n",
    "    \"family\", \"fake dating\", \"jealousy\",\n",
    "    \"secret relationship\", \"CEO\", \"marriage\",\n",
    "    \"humor\", \"betrayal\", \"conflict\", \"dating\", \"romantic comedy\"]"
   ]
  },
  {
   "cell_type": "code",
   "execution_count": 17,
   "id": "35084950",
   "metadata": {},
   "outputs": [
    {
     "data": {
      "text/plain": [
       "{'sequence': 'I love you',\n",
       " 'labels': ['love',\n",
       "  'family',\n",
       "  'romance',\n",
       "  'friendship',\n",
       "  'marriage',\n",
       "  'romantic comedy',\n",
       "  'office',\n",
       "  'dating',\n",
       "  'CEO',\n",
       "  'secret relationship',\n",
       "  'conflict',\n",
       "  'drama',\n",
       "  'humor',\n",
       "  'comedy',\n",
       "  'fake dating',\n",
       "  'jealousy',\n",
       "  'betrayal',\n",
       "  'business'],\n",
       " 'scores': [0.9899700284004211,\n",
       "  0.9899320006370544,\n",
       "  0.9605304002761841,\n",
       "  0.9256911277770996,\n",
       "  0.45934462547302246,\n",
       "  0.33738037943840027,\n",
       "  0.2959821820259094,\n",
       "  0.24753901362419128,\n",
       "  0.23426198959350586,\n",
       "  0.22936999797821045,\n",
       "  0.11664266884326935,\n",
       "  0.06687180697917938,\n",
       "  0.06453361362218857,\n",
       "  0.050936367362737656,\n",
       "  0.014546990394592285,\n",
       "  0.003691155230626464,\n",
       "  0.0015365141443908215,\n",
       "  0.0003656400949694216]}"
      ]
     },
     "execution_count": 17,
     "metadata": {},
     "output_type": "execute_result"
    }
   ],
   "source": [
    "theme_classifier(\n",
    "    \"I love you\",\n",
    "    theme_list,\n",
    "    multi_label=True\n",
    ")"
   ]
  },
  {
   "cell_type": "markdown",
   "id": "439d5c03",
   "metadata": {},
   "source": [
    "## Load dataset"
   ]
  },
  {
   "cell_type": "code",
   "execution_count": 23,
   "id": "f3512e1a",
   "metadata": {},
   "outputs": [],
   "source": [
    "files = glob('../dataset/Subtitles/*.ass')"
   ]
  },
  {
   "cell_type": "code",
   "execution_count": 24,
   "id": "c9176d8f",
   "metadata": {},
   "outputs": [
    {
     "data": {
      "text/plain": [
       "'../dataset/Subtitles\\\\business_proposal_very_long_ep01.ass'"
      ]
     },
     "execution_count": 24,
     "metadata": {},
     "output_type": "execute_result"
    }
   ],
   "source": [
    "files[0]"
   ]
  },
  {
   "cell_type": "code",
   "execution_count": 26,
   "id": "c2c809e1",
   "metadata": {},
   "outputs": [],
   "source": [
    "with open(files[0],'r') as file:\n",
    "    lines = file.readlines()\n",
    "    lines = lines[15:]\n",
    "    lines = [\",\".join(line.split(',')[9:]) for line in lines]"
   ]
  },
  {
   "cell_type": "code",
   "execution_count": 28,
   "id": "4d6da9dd",
   "metadata": {},
   "outputs": [
    {
     "data": {
      "text/plain": [
       "['I think I’ve made a huge mistake.\\n',\n",
       " 'I need time to think.\\n',\n",
       " 'You’re fired... Just kidding.\\n',\n",
       " 'You’re acting really strange today.\\n',\n",
       " 'Are you serious about her?\\n']"
      ]
     },
     "execution_count": 28,
     "metadata": {},
     "output_type": "execute_result"
    }
   ],
   "source": [
    "lines[:5]"
   ]
  },
  {
   "cell_type": "code",
   "execution_count": 29,
   "id": "d0397b2f",
   "metadata": {},
   "outputs": [
    {
     "data": {
      "text/plain": [
       "\"I think I’ve made a huge mistake.\\n I need time to think.\\n You’re fired... Just kidding.\\n You’re acting really strange today.\\n Are you serious about her?\\n Grandpa will never approve of this.\\n I never thought I’d say this, but I like you.\\n Don’t act like you don’t care.\\n You’re crossing a line, Mr. Kang.\\n I'm not ready for a relationship.\\n\""
      ]
     },
     "execution_count": 29,
     "metadata": {},
     "output_type": "execute_result"
    }
   ],
   "source": [
    "\" \".join(lines[:10])"
   ]
  },
  {
   "cell_type": "code",
   "execution_count": 36,
   "id": "1d16510d",
   "metadata": {},
   "outputs": [
    {
     "data": {
      "text/plain": [
       "1"
      ]
     },
     "execution_count": 36,
     "metadata": {},
     "output_type": "execute_result"
    }
   ],
   "source": [
    "int(files[0].split('_ep')[-1].split('.')[0].strip())"
   ]
  },
  {
   "cell_type": "code",
   "execution_count": 42,
   "id": "8c1875b4",
   "metadata": {},
   "outputs": [],
   "source": [
    "def load_subtitles_dataset(dataset_path):\n",
    "    subtitles_paths = glob(dataset_path+'/*.ass')\n",
    "\n",
    "    scripts = []\n",
    "    episode_num = []\n",
    "\n",
    "    for path in subtitles_paths:\n",
    "        #Read lines\n",
    "        with open(path,'r') as file:\n",
    "            lines = file.readlines()\n",
    "            lines = lines[15:]\n",
    "            lines = [\",\".join(line.split(',')[9:]) for line in lines]\n",
    "\n",
    "        script = \" \".join(lines)\n",
    "\n",
    "        episode = int(path.split('_ep')[-1].split('.')[0].strip())\n",
    "\n",
    "        scripts.append(script)\n",
    "        episode_num.append(episode)\n",
    "\n",
    "    df = pd.DataFrame.from_dict({\"episode\": episode_num, \"scripts\":scripts})\n",
    "\n",
    "    return df"
   ]
  },
  {
   "cell_type": "code",
   "execution_count": 43,
   "id": "82302093",
   "metadata": {},
   "outputs": [],
   "source": [
    "dataset_path = \"../dataset/Subtitles\"\n",
    "df = load_subtitles_dataset(dataset_path)"
   ]
  },
  {
   "cell_type": "code",
   "execution_count": 44,
   "id": "e1789e9d",
   "metadata": {},
   "outputs": [
    {
     "data": {
      "text/html": [
       "<div>\n",
       "<style scoped>\n",
       "    .dataframe tbody tr th:only-of-type {\n",
       "        vertical-align: middle;\n",
       "    }\n",
       "\n",
       "    .dataframe tbody tr th {\n",
       "        vertical-align: top;\n",
       "    }\n",
       "\n",
       "    .dataframe thead th {\n",
       "        text-align: right;\n",
       "    }\n",
       "</style>\n",
       "<table border=\"1\" class=\"dataframe\">\n",
       "  <thead>\n",
       "    <tr style=\"text-align: right;\">\n",
       "      <th></th>\n",
       "      <th>episode</th>\n",
       "      <th>scripts</th>\n",
       "    </tr>\n",
       "  </thead>\n",
       "  <tbody>\n",
       "    <tr>\n",
       "      <th>0</th>\n",
       "      <td>1</td>\n",
       "      <td>I think I’ve made a huge mistake.\\n I need tim...</td>\n",
       "    </tr>\n",
       "    <tr>\n",
       "      <th>1</th>\n",
       "      <td>2</td>\n",
       "      <td>I didn't come here to fall in love.\\n If it’s ...</td>\n",
       "    </tr>\n",
       "    <tr>\n",
       "      <th>2</th>\n",
       "      <td>3</td>\n",
       "      <td>How long have you two been dating?\\n I think I...</td>\n",
       "    </tr>\n",
       "    <tr>\n",
       "      <th>3</th>\n",
       "      <td>4</td>\n",
       "      <td>Don’t act like you don’t care.\\n I think I’ve ...</td>\n",
       "    </tr>\n",
       "    <tr>\n",
       "      <th>4</th>\n",
       "      <td>5</td>\n",
       "      <td>How long have you two been dating?\\n Why does ...</td>\n",
       "    </tr>\n",
       "  </tbody>\n",
       "</table>\n",
       "</div>"
      ],
      "text/plain": [
       "   episode                                            scripts\n",
       "0        1  I think I’ve made a huge mistake.\\n I need tim...\n",
       "1        2  I didn't come here to fall in love.\\n If it’s ...\n",
       "2        3  How long have you two been dating?\\n I think I...\n",
       "3        4  Don’t act like you don’t care.\\n I think I’ve ...\n",
       "4        5  How long have you two been dating?\\n Why does ..."
      ]
     },
     "execution_count": 44,
     "metadata": {},
     "output_type": "execute_result"
    }
   ],
   "source": [
    "df.head()"
   ]
  },
  {
   "cell_type": "markdown",
   "id": "e4957507",
   "metadata": {},
   "source": [
    "## Run model"
   ]
  },
  {
   "cell_type": "code",
   "execution_count": 50,
   "id": "502f8b64",
   "metadata": {},
   "outputs": [],
   "source": [
    "script = df.iloc[0]['scripts']"
   ]
  },
  {
   "cell_type": "code",
   "execution_count": 51,
   "id": "bae21cee",
   "metadata": {},
   "outputs": [
    {
     "data": {
      "text/plain": [
       "\"I think I’ve made a huge mistake.\\n I need time to think.\\n You’re fired... Just kidding.\\n You’re acting really strange today.\\n Are you serious about her?\\n Grandpa will never approve of this.\\n I never thought I’d say this, but I like you.\\n Don’t act like you don’t care.\\n You’re crossing a line, Mr. Kang.\\n I'm not ready for a relationship.\\n Do you think pretending will make it easier?\\n You're late again, Ms. Shin.\\n You deserve someone better.\\n You’re crossing a line, Mr. Kang.\\n Why are you crying?\\n Don’t tell anyone what you saw.\\n This is my final warning.\\n This is just a business arrangement.\\n It's just business, remember?\\n You’re not who I expected to meet today.\\n Stop mixing work with your emotions.\\n You look nervous. First date?\\n You’re crossing a line, Mr. Kang.\\n What happened to our agreement?\\n Why are you crying?\\n Do you want to grab dinner later?\\n We can't keep lying forever.\\n You’re crossing a line, Mr. Kang.\\n Do you want to grab dinner later?\\n Let's stop this before it gets worse.\\n Don’t tell anyone what you saw.\\n You’re acting really strange today.\\n If it’s not love, what is it?\\n You deserve someone better.\\n I think I might love him for real.\\n I think I might love him for real.\\n He’s not as cold as he seems.\\n Why are you crying?\\n If it’s not love, what is it?\\n Are you serious about her?\\n I think I might love him for real.\\n We can't keep lying forever.\\n Why does my heart race when I see her?\\n Let’s keep this a secret, okay?\\n How long have you two been dating?\\n You’re fired... Just kidding.\\n This dinner is for business, nothing more.\\n Do you think pretending will make it easier?\\n Don’t tell anyone what you saw.\\n Don’t tell anyone what you saw.\\n Are you serious about her?\\n I think I might love him for real.\\n We can't keep lying forever.\\n Why are you crying?\\n You’ve crossed the line.\\n We can't keep lying forever.\\n Stop mixing work with your emotions.\\n He’s not as cold as he seems.\\n I need time to think.\\n Stop mixing work with your emotions.\\n I never thought I’d say this, but I like you.\\n She lied to me from the beginning.\\n I think I’ve made a huge mistake.\\n She lied to me from the beginning.\\n This wasn’t part of the plan.\\n I need time to think.\\n This dinner is for business, nothing more.\\n Don’t act like you don’t care.\\n I brought you some ginseng chicken soup.\\n Don’t act like you don’t care.\\n Don’t tell anyone what you saw.\\n I need time to think.\\n Please don’t quit because of me.\\n Do you want to grab dinner later?\\n Why are you crying?\\n You weren't supposed to fall for him.\\n We can't keep lying forever.\\n I never thought I’d say this, but I like you.\\n He’s not as cold as he seems.\\n I need time to think.\\n I'm not ready for a relationship.\\n I brought you some ginseng chicken soup.\\n Stop mixing work with your emotions.\\n What happened to our agreement?\\n You’re crossing a line, Mr. Kang.\\n We're not dating, it's just a contract.\\n You deserve someone better.\\n I need time to think.\\n Are you serious about her?\\n Don’t act like you don’t care.\\n You weren't supposed to fall for him.\\n This dinner is for business, nothing more.\\n You look nervous. First date?\\n This is just a business arrangement.\\n It's just business, remember?\\n You’re acting really strange today.\\n I didn't come here to fall in love.\\n If it’s not love, what is it?\\n He’s my boss, I can’t date him.\\n You’re not who I expected to meet today.\\n You deserve someone better.\\n You’re not who I expected to meet today.\\n I think I’ve made a huge mistake.\\n Let’s keep this a secret, okay?\\n You’re the one I’ve been waiting for.\\n This dinner is for business, nothing more.\\n Don’t act like you don’t care.\\n She’s just pretending to be someone else.\\n He’s my boss, I can’t date him.\\n You’re not who I expected to meet today.\\n We can't keep lying forever.\\n This dinner is for business, nothing more.\\n She lied to me from the beginning.\\n You weren't supposed to fall for him.\\n Grandpa will never approve of this.\\n I brought you some ginseng chicken soup.\\n Do you think pretending will make it easier?\\n You’re acting really strange today.\\n This wasn’t part of the plan.\\n Don’t act like you don’t care.\\n Stop mixing work with your emotions.\\n You really thought I wouldn’t find out?\\n Please don’t quit because of me.\\n Stop mixing work with your emotions.\\n If it’s not love, what is it?\\n Why does my heart race when I see her?\\n Why are you crying?\\n We can't keep lying forever.\\n This dinner is for business, nothing more.\\n We can't keep lying forever.\\n You deserve someone better.\\n You’re not who I expected to meet today.\\n If it’s not love, what is it?\\n If it’s not love, what is it?\\n Are you serious about her?\\n Don’t act like you don’t care.\\n He’s not as cold as he seems.\\n Stop mixing work with your emotions.\\n You’re not who I expected to meet today.\\n This is just a business arrangement.\\n She’s just pretending to be someone else.\\n I think I’ve made a huge mistake.\\n This wasn’t part of the plan.\\n Do you think pretending will make it easier?\\n You really thought I wouldn’t find out?\\n I never thought I’d say this, but I like you.\\n I need time to think.\\n I need time to think.\\n Please don’t quit because of me.\\n My daughter is in love!\\n You’re crossing a line, Mr. Kang.\\n You weren't supposed to fall for him.\\n I think I might love him for real.\\n I think I’ve made a huge mistake.\\n Let's stop this before it gets worse.\\n I think I’ve made a huge mistake.\\n This dinner is for business, nothing more.\\n Do you think pretending will make it easier?\\n Do you want to grab dinner later?\\n Don’t act like you don’t care.\\n Can we just pretend this never happened?\\n Do you want to grab dinner later?\\n Do you want to grab dinner later?\\n Why are you crying?\\n I'm not ready for a relationship.\\n If it’s not love, what is it?\\n Grandpa will never approve of this.\\n You look nervous. First date?\\n Let’s keep this a secret, okay?\\n Stop mixing work with your emotions.\\n She’s just pretending to be someone else.\\n Don’t tell anyone what you saw.\\n You’re the one I’ve been waiting for.\\n You’re crossing a line, Mr. Kang.\\n She’s just pretending to be someone else.\\n This is just a business arrangement.\\n You’re fired... Just kidding.\\n You're late again, Ms. Shin.\\n I need time to think.\\n He’s my boss, I can’t date him.\\n Grandpa will never approve of this.\\n He’s my boss, I can’t date him.\\n He’s not as cold as he seems.\\n I think I might love him for real.\\n You’re not who I expected to meet today.\\n I never thought I’d say this, but I like you.\\n This wasn’t part of the plan.\\n You deserve someone better.\\n You’ve crossed the line.\\n This is my final warning.\\n We're not dating, it's just a contract.\\n Stop mixing work with your emotions.\\n I brought you some ginseng chicken soup.\\n Can we just pretend this never happened?\\n I need time to think.\\n He’s not as cold as he seems.\\n It's just business, remember?\\n You really thought I wouldn’t find out?\\n Do you want to grab dinner later?\\n It's just business, remember?\\n Can we just pretend this never happened?\\n Why are you crying?\\n You’re the one I’ve been waiting for.\\n Are you serious about her?\\n You weren't supposed to fall for him.\\n You weren't supposed to fall for him.\\n How long have you two been dating?\\n You stood me up on a blind date?\\n I brought you some ginseng chicken soup.\\n You really thought I wouldn’t find out?\\n She lied to me from the beginning.\\n You deserve someone better.\\n You’re fired... Just kidding.\\n You’re fired... Just kidding.\\n My daughter is in love!\\n This dinner is for business, nothing more.\\n She lied to me from the beginning.\\n This wasn’t part of the plan.\\n It's just business, remember?\\n What happened to our agreement?\\n Stop mixing work with your emotions.\\n Please don’t quit because of me.\\n This is just a business arrangement.\\n I'm not ready for a relationship.\\n You deserve someone better.\\n I brought you some ginseng chicken soup.\\n Do you think pretending will make it easier?\\n Why does my heart race when I see her?\\n Please don’t quit because of me.\\n This wasn’t part of the plan.\\n This wasn’t part of the plan.\\n Why does my heart race when I see her?\\n Grandpa will never approve of this.\\n Don’t act like you don’t care.\\n He’s not as cold as he seems.\\n If it’s not love, what is it?\\n I'm not ready for a relationship.\\n If it’s not love, what is it?\\n She’s just pretending to be someone else.\\n You weren't supposed to fall for him.\\n Let's stop this before it gets worse.\\n This dinner is for business, nothing more.\\n I didn't come here to fall in love.\\n It's just business, remember?\\n My daughter is in love!\\n Why are you crying?\\n Why are you crying?\\n Do you think pretending will make it easier?\\n This is my final warning.\\n Grandpa will never approve of this.\\n This dinner is for business, nothing more.\\n Please don’t quit because of me.\\n I think I’ve made a huge mistake.\\n He’s not as cold as he seems.\\n Why are you crying?\\n You stood me up on a blind date?\\n You’re acting really strange today.\\n You’re the one I’ve been waiting for.\\n You weren't supposed to fall for him.\\n You weren't supposed to fall for him.\\n This is just a business arrangement.\\n I never thought I’d say this, but I like you.\\n Can we just pretend this never happened?\\n She lied to me from the beginning.\\n You deserve someone better.\\n I never thought I’d say this, but I like you.\\n She lied to me from the beginning.\\n Don’t act like you don’t care.\\n You look nervous. First date?\\n You’re acting really strange today.\\n She lied to me from the beginning.\\n You weren't supposed to fall for him.\\n We can't keep lying forever.\\n You look nervous. First date?\\n Please don’t quit because of me.\\n Can we just pretend this never happened?\\n Don’t act like you don’t care.\\n He’s my boss, I can’t date him.\\n I didn't come here to fall in love.\\n You're late again, Ms. Shin.\\n I need time to think.\\n You’re fired... Just kidding.\\n Grandpa will never approve of this.\\n You stood me up on a blind date?\\n Can we just pretend this never happened?\\n You’re not who I expected to meet today.\\n Do you want to grab dinner later?\\n She’s just pretending to be someone else.\\n Stop mixing work with your emotions.\\n Can we just pretend this never happened?\\n We're not dating, it's just a contract.\\n You really thought I wouldn’t find out?\\n She’s just pretending to be someone else.\\n Are you serious about her?\\n If it’s not love, what is it?\\n Do you think pretending will make it easier?\\n I never thought I’d say this, but I like you.\\n How long have you two been dating?\\n You look nervous. First date?\\n He’s not as cold as he seems.\""
      ]
     },
     "execution_count": 51,
     "metadata": {},
     "output_type": "execute_result"
    }
   ],
   "source": [
    "script"
   ]
  },
  {
   "cell_type": "code",
   "execution_count": 52,
   "id": "bb5fa698",
   "metadata": {},
   "outputs": [
    {
     "data": {
      "text/plain": [
       "['I think I’ve made a huge mistake.',\n",
       " 'I need time to think.',\n",
       " 'You’re fired... Just kidding.']"
      ]
     },
     "execution_count": 52,
     "metadata": {},
     "output_type": "execute_result"
    }
   ],
   "source": [
    "script_sentences = sent_tokenize(script)\n",
    "script_sentences[:3]"
   ]
  },
  {
   "cell_type": "code",
   "execution_count": 55,
   "id": "fcaa789c",
   "metadata": {},
   "outputs": [],
   "source": [
    "#Batch sentences\n",
    "sentence_batch_size = 20\n",
    "script_batches = []\n",
    "for index in range(0, len(script_sentences), sentence_batch_size):\n",
    "    sent = \" \".join(script_sentences[index:index+sentence_batch_size])\n",
    "    script_batches.append(sent)"
   ]
  },
  {
   "cell_type": "code",
   "execution_count": 56,
   "id": "d7917682",
   "metadata": {},
   "outputs": [
    {
     "data": {
      "text/plain": [
       "[\"I think I’ve made a huge mistake. I need time to think. You’re fired... Just kidding. You’re acting really strange today. Are you serious about her? Grandpa will never approve of this. I never thought I’d say this, but I like you. Don’t act like you don’t care. You’re crossing a line, Mr. Kang. I'm not ready for a relationship. Do you think pretending will make it easier? You're late again, Ms. Shin. You deserve someone better. You’re crossing a line, Mr. Kang. Why are you crying? Don’t tell anyone what you saw. This is my final warning. This is just a business arrangement. It's just business, remember? You’re not who I expected to meet today.\",\n",
       " \"Stop mixing work with your emotions. You look nervous. First date? You’re crossing a line, Mr. Kang. What happened to our agreement? Why are you crying? Do you want to grab dinner later? We can't keep lying forever. You’re crossing a line, Mr. Kang. Do you want to grab dinner later? Let's stop this before it gets worse. Don’t tell anyone what you saw. You’re acting really strange today. If it’s not love, what is it? You deserve someone better. I think I might love him for real. I think I might love him for real. He’s not as cold as he seems. Why are you crying? If it’s not love, what is it?\"]"
      ]
     },
     "execution_count": 56,
     "metadata": {},
     "output_type": "execute_result"
    }
   ],
   "source": [
    "script_batches[:2]"
   ]
  },
  {
   "cell_type": "code",
   "execution_count": 121,
   "id": "34a7892f",
   "metadata": {},
   "outputs": [],
   "source": [
    "theme_output = theme_classifier(\n",
    "    script_batches[:2],\n",
    "    theme_list,\n",
    "    multi_label=True\n",
    ")"
   ]
  },
  {
   "cell_type": "code",
   "execution_count": 122,
   "id": "b7a59b39",
   "metadata": {},
   "outputs": [
    {
     "data": {
      "text/plain": [
       "[{'sequence': \"I think I’ve made a huge mistake. I need time to think. You’re fired... Just kidding. You’re acting really strange today. Are you serious about her? Grandpa will never approve of this. I never thought I’d say this, but I like you. Don’t act like you don’t care. You’re crossing a line, Mr. Kang. I'm not ready for a relationship. Do you think pretending will make it easier? You're late again, Ms. Shin. You deserve someone better. You’re crossing a line, Mr. Kang. Why are you crying? Don’t tell anyone what you saw. This is my final warning. This is just a business arrangement. It's just business, remember? You’re not who I expected to meet today.\",\n",
       "  'labels': ['business',\n",
       "   'conflict',\n",
       "   'drama',\n",
       "   'betrayal',\n",
       "   'office',\n",
       "   'secret relationship',\n",
       "   'fake dating',\n",
       "   'humor',\n",
       "   'dating',\n",
       "   'CEO',\n",
       "   'comedy',\n",
       "   'family',\n",
       "   'jealousy',\n",
       "   'marriage',\n",
       "   'romantic comedy',\n",
       "   'friendship',\n",
       "   'love',\n",
       "   'romance'],\n",
       "  'scores': [0.9937365651130676,\n",
       "   0.9552564024925232,\n",
       "   0.7887237668037415,\n",
       "   0.770236074924469,\n",
       "   0.7418363690376282,\n",
       "   0.7189767956733704,\n",
       "   0.6948551535606384,\n",
       "   0.5885422825813293,\n",
       "   0.5785427689552307,\n",
       "   0.5112891793251038,\n",
       "   0.4401370882987976,\n",
       "   0.2517189085483551,\n",
       "   0.2490680068731308,\n",
       "   0.05975572392344475,\n",
       "   0.03636852651834488,\n",
       "   0.0185658261179924,\n",
       "   0.011513707228004932,\n",
       "   0.006349347997456789]},\n",
       " {'sequence': \"Stop mixing work with your emotions. You look nervous. First date? You’re crossing a line, Mr. Kang. What happened to our agreement? Why are you crying? Do you want to grab dinner later? We can't keep lying forever. You’re crossing a line, Mr. Kang. Do you want to grab dinner later? Let's stop this before it gets worse. Don’t tell anyone what you saw. You’re acting really strange today. If it’s not love, what is it? You deserve someone better. I think I might love him for real. I think I might love him for real. He’s not as cold as he seems. Why are you crying? If it’s not love, what is it?\",\n",
       "  'labels': ['dating',\n",
       "   'conflict',\n",
       "   'secret relationship',\n",
       "   'drama',\n",
       "   'fake dating',\n",
       "   'romance',\n",
       "   'office',\n",
       "   'betrayal',\n",
       "   'business',\n",
       "   'love',\n",
       "   'CEO',\n",
       "   'family',\n",
       "   'romantic comedy',\n",
       "   'friendship',\n",
       "   'marriage',\n",
       "   'jealousy',\n",
       "   'comedy',\n",
       "   'humor'],\n",
       "  'scores': [0.9624727368354797,\n",
       "   0.956630289554596,\n",
       "   0.8557448387145996,\n",
       "   0.7757052779197693,\n",
       "   0.7303090691566467,\n",
       "   0.7088708281517029,\n",
       "   0.6765565872192383,\n",
       "   0.6417291164398193,\n",
       "   0.5994243621826172,\n",
       "   0.517857015132904,\n",
       "   0.36442485451698303,\n",
       "   0.3250049650669098,\n",
       "   0.31870728731155396,\n",
       "   0.2198864370584488,\n",
       "   0.1450466811656952,\n",
       "   0.10029596835374832,\n",
       "   0.07328471541404724,\n",
       "   0.04321028292179108]}]"
      ]
     },
     "execution_count": 122,
     "metadata": {},
     "output_type": "execute_result"
    }
   ],
   "source": [
    "theme_output"
   ]
  },
  {
   "cell_type": "code",
   "execution_count": 123,
   "id": "139b5208",
   "metadata": {},
   "outputs": [],
   "source": [
    "# Wrangle output\n",
    "themes={}\n",
    "for output in theme_output:\n",
    "    for label, score in zip(output['labels'], output['scores']):\n",
    "        if label not in themes:\n",
    "            themes[label]=[]\n",
    "        themes[label].append(score)"
   ]
  },
  {
   "cell_type": "code",
   "execution_count": 124,
   "id": "b3810170",
   "metadata": {},
   "outputs": [],
   "source": [
    "themes = {key: np.mean(np.array(value)) for key, value in themes.items()}"
   ]
  },
  {
   "cell_type": "code",
   "execution_count": 125,
   "id": "ae3e3fde",
   "metadata": {},
   "outputs": [
    {
     "data": {
      "text/plain": [
       "{'business': 0.7965804636478424,\n",
       " 'conflict': 0.9559433460235596,\n",
       " 'drama': 0.7822145223617554,\n",
       " 'betrayal': 0.7059825956821442,\n",
       " 'office': 0.7091964781284332,\n",
       " 'secret relationship': 0.787360817193985,\n",
       " 'fake dating': 0.7125821113586426,\n",
       " 'humor': 0.3158762827515602,\n",
       " 'dating': 0.7705077528953552,\n",
       " 'CEO': 0.4378570169210434,\n",
       " 'comedy': 0.2567109018564224,\n",
       " 'family': 0.28836193680763245,\n",
       " 'jealousy': 0.17468198761343956,\n",
       " 'marriage': 0.10240120254456997,\n",
       " 'romantic comedy': 0.17753790691494942,\n",
       " 'friendship': 0.1192261315882206,\n",
       " 'love': 0.2646853611804545,\n",
       " 'romance': 0.35761008807457983}"
      ]
     },
     "execution_count": 125,
     "metadata": {},
     "output_type": "execute_result"
    }
   ],
   "source": [
    "themes"
   ]
  },
  {
   "cell_type": "code",
   "execution_count": 127,
   "id": "fa00d1b7",
   "metadata": {},
   "outputs": [],
   "source": [
    "def get_themes_inference(script):\n",
    "    script_sentences = sent_tokenize(script)\n",
    "\n",
    "    #Batch sentences\n",
    "    sentence_batch_size = 20\n",
    "    script_batches = []\n",
    "    for index in range(0, len(script_sentences), sentence_batch_size):\n",
    "        sent = \" \".join(script_sentences[index:index+sentence_batch_size])\n",
    "        script_batches.append(sent)\n",
    "\n",
    "    #Run model\n",
    "    theme_output = theme_classifier(\n",
    "    script_batches[:2],\n",
    "    theme_list,\n",
    "    multi_label=True\n",
    "    )\n",
    "\n",
    "    #Wrangle ouput\n",
    "    themes={}\n",
    "    for output in theme_output:\n",
    "        for label, score in zip(output['labels'], output['scores']):\n",
    "            if label not in themes:\n",
    "                themes[label]=[]\n",
    "            themes[label].append(score)\n",
    "\n",
    "    themes = {key: np.mean(np.array(value)) for key, value in themes.items()}\n",
    "\n",
    "    return themes"
   ]
  },
  {
   "cell_type": "code",
   "execution_count": 128,
   "id": "a018892d",
   "metadata": {},
   "outputs": [
    {
     "data": {
      "text/html": [
       "<div>\n",
       "<style scoped>\n",
       "    .dataframe tbody tr th:only-of-type {\n",
       "        vertical-align: middle;\n",
       "    }\n",
       "\n",
       "    .dataframe tbody tr th {\n",
       "        vertical-align: top;\n",
       "    }\n",
       "\n",
       "    .dataframe thead th {\n",
       "        text-align: right;\n",
       "    }\n",
       "</style>\n",
       "<table border=\"1\" class=\"dataframe\">\n",
       "  <thead>\n",
       "    <tr style=\"text-align: right;\">\n",
       "      <th></th>\n",
       "      <th>episode</th>\n",
       "      <th>scripts</th>\n",
       "      <th>conflict</th>\n",
       "      <th>drama</th>\n",
       "      <th>betrayal</th>\n",
       "      <th>office</th>\n",
       "      <th>secret relationship</th>\n",
       "      <th>fake dating</th>\n",
       "      <th>humor</th>\n",
       "      <th>dating</th>\n",
       "      <th>CEO</th>\n",
       "      <th>comedy</th>\n",
       "      <th>family</th>\n",
       "      <th>jealousy</th>\n",
       "      <th>marriage</th>\n",
       "      <th>romantic comedy</th>\n",
       "      <th>friendship</th>\n",
       "      <th>love</th>\n",
       "      <th>romance</th>\n",
       "      <th>business</th>\n",
       "    </tr>\n",
       "  </thead>\n",
       "  <tbody>\n",
       "    <tr>\n",
       "      <th>0</th>\n",
       "      <td>1</td>\n",
       "      <td>I think I’ve made a huge mistake.\\n I need tim...</td>\n",
       "      <td>0.955943</td>\n",
       "      <td>0.782215</td>\n",
       "      <td>0.705983</td>\n",
       "      <td>0.709196</td>\n",
       "      <td>0.787361</td>\n",
       "      <td>0.712582</td>\n",
       "      <td>0.315876</td>\n",
       "      <td>0.770508</td>\n",
       "      <td>0.437857</td>\n",
       "      <td>0.256711</td>\n",
       "      <td>0.288362</td>\n",
       "      <td>0.174682</td>\n",
       "      <td>0.102401</td>\n",
       "      <td>0.177538</td>\n",
       "      <td>0.119226</td>\n",
       "      <td>0.264685</td>\n",
       "      <td>0.357610</td>\n",
       "      <td>0.79658</td>\n",
       "    </tr>\n",
       "    <tr>\n",
       "      <th>1</th>\n",
       "      <td>2</td>\n",
       "      <td>I didn't come here to fall in love.\\n If it’s ...</td>\n",
       "      <td>0.955196</td>\n",
       "      <td>0.804672</td>\n",
       "      <td>0.930403</td>\n",
       "      <td>0.597145</td>\n",
       "      <td>0.835442</td>\n",
       "      <td>0.909900</td>\n",
       "      <td>0.085617</td>\n",
       "      <td>0.928606</td>\n",
       "      <td>0.548359</td>\n",
       "      <td>0.136540</td>\n",
       "      <td>0.487014</td>\n",
       "      <td>0.318506</td>\n",
       "      <td>0.147650</td>\n",
       "      <td>0.221600</td>\n",
       "      <td>0.050116</td>\n",
       "      <td>0.111800</td>\n",
       "      <td>0.132083</td>\n",
       "      <td>0.98531</td>\n",
       "    </tr>\n",
       "  </tbody>\n",
       "</table>\n",
       "</div>"
      ],
      "text/plain": [
       "   episode                                            scripts  conflict  \\\n",
       "0        1  I think I’ve made a huge mistake.\\n I need tim...  0.955943   \n",
       "1        2  I didn't come here to fall in love.\\n If it’s ...  0.955196   \n",
       "\n",
       "      drama  betrayal    office  secret relationship  fake dating     humor  \\\n",
       "0  0.782215  0.705983  0.709196             0.787361     0.712582  0.315876   \n",
       "1  0.804672  0.930403  0.597145             0.835442     0.909900  0.085617   \n",
       "\n",
       "     dating       CEO    comedy    family  jealousy  marriage  \\\n",
       "0  0.770508  0.437857  0.256711  0.288362  0.174682  0.102401   \n",
       "1  0.928606  0.548359  0.136540  0.487014  0.318506  0.147650   \n",
       "\n",
       "   romantic comedy  friendship      love   romance  business  \n",
       "0         0.177538    0.119226  0.264685  0.357610   0.79658  \n",
       "1         0.221600    0.050116  0.111800  0.132083   0.98531  "
      ]
     },
     "execution_count": 128,
     "metadata": {},
     "output_type": "execute_result"
    }
   ],
   "source": [
    "df = df.head(2)\n",
    "df"
   ]
  },
  {
   "cell_type": "code",
   "execution_count": 129,
   "id": "6d1424c1",
   "metadata": {},
   "outputs": [],
   "source": [
    "output_themes = df['scripts'].apply(get_themes_inference)"
   ]
  },
  {
   "cell_type": "code",
   "execution_count": 130,
   "id": "a48c584a",
   "metadata": {},
   "outputs": [
    {
     "data": {
      "text/plain": [
       "0    {'business': 0.7965804636478424, 'conflict': 0...\n",
       "1    {'business': 0.9853103458881378, 'conflict': 0...\n",
       "Name: scripts, dtype: object"
      ]
     },
     "execution_count": 130,
     "metadata": {},
     "output_type": "execute_result"
    }
   ],
   "source": [
    "output_themes"
   ]
  },
  {
   "cell_type": "code",
   "execution_count": 131,
   "id": "d81c177a",
   "metadata": {},
   "outputs": [],
   "source": [
    "theme_df = pd.DataFrame(output_themes.tolist())"
   ]
  },
  {
   "cell_type": "code",
   "execution_count": 132,
   "id": "cf403e00",
   "metadata": {},
   "outputs": [
    {
     "data": {
      "text/html": [
       "<div>\n",
       "<style scoped>\n",
       "    .dataframe tbody tr th:only-of-type {\n",
       "        vertical-align: middle;\n",
       "    }\n",
       "\n",
       "    .dataframe tbody tr th {\n",
       "        vertical-align: top;\n",
       "    }\n",
       "\n",
       "    .dataframe thead th {\n",
       "        text-align: right;\n",
       "    }\n",
       "</style>\n",
       "<table border=\"1\" class=\"dataframe\">\n",
       "  <thead>\n",
       "    <tr style=\"text-align: right;\">\n",
       "      <th></th>\n",
       "      <th>business</th>\n",
       "      <th>conflict</th>\n",
       "      <th>drama</th>\n",
       "      <th>betrayal</th>\n",
       "      <th>office</th>\n",
       "      <th>secret relationship</th>\n",
       "      <th>fake dating</th>\n",
       "      <th>humor</th>\n",
       "      <th>dating</th>\n",
       "      <th>CEO</th>\n",
       "      <th>comedy</th>\n",
       "      <th>family</th>\n",
       "      <th>jealousy</th>\n",
       "      <th>marriage</th>\n",
       "      <th>romantic comedy</th>\n",
       "      <th>friendship</th>\n",
       "      <th>love</th>\n",
       "      <th>romance</th>\n",
       "    </tr>\n",
       "  </thead>\n",
       "  <tbody>\n",
       "    <tr>\n",
       "      <th>0</th>\n",
       "      <td>0.79658</td>\n",
       "      <td>0.955943</td>\n",
       "      <td>0.782215</td>\n",
       "      <td>0.705983</td>\n",
       "      <td>0.709196</td>\n",
       "      <td>0.787361</td>\n",
       "      <td>0.712582</td>\n",
       "      <td>0.315876</td>\n",
       "      <td>0.770508</td>\n",
       "      <td>0.437857</td>\n",
       "      <td>0.256711</td>\n",
       "      <td>0.288362</td>\n",
       "      <td>0.174682</td>\n",
       "      <td>0.102401</td>\n",
       "      <td>0.177538</td>\n",
       "      <td>0.119226</td>\n",
       "      <td>0.264685</td>\n",
       "      <td>0.357610</td>\n",
       "    </tr>\n",
       "    <tr>\n",
       "      <th>1</th>\n",
       "      <td>0.98531</td>\n",
       "      <td>0.955196</td>\n",
       "      <td>0.804672</td>\n",
       "      <td>0.930403</td>\n",
       "      <td>0.597145</td>\n",
       "      <td>0.835442</td>\n",
       "      <td>0.909900</td>\n",
       "      <td>0.085617</td>\n",
       "      <td>0.928606</td>\n",
       "      <td>0.548359</td>\n",
       "      <td>0.136540</td>\n",
       "      <td>0.487014</td>\n",
       "      <td>0.318506</td>\n",
       "      <td>0.147650</td>\n",
       "      <td>0.221600</td>\n",
       "      <td>0.050116</td>\n",
       "      <td>0.111800</td>\n",
       "      <td>0.132083</td>\n",
       "    </tr>\n",
       "  </tbody>\n",
       "</table>\n",
       "</div>"
      ],
      "text/plain": [
       "   business  conflict     drama  betrayal    office  secret relationship  \\\n",
       "0   0.79658  0.955943  0.782215  0.705983  0.709196             0.787361   \n",
       "1   0.98531  0.955196  0.804672  0.930403  0.597145             0.835442   \n",
       "\n",
       "   fake dating     humor    dating       CEO    comedy    family  jealousy  \\\n",
       "0     0.712582  0.315876  0.770508  0.437857  0.256711  0.288362  0.174682   \n",
       "1     0.909900  0.085617  0.928606  0.548359  0.136540  0.487014  0.318506   \n",
       "\n",
       "   marriage  romantic comedy  friendship      love   romance  \n",
       "0  0.102401         0.177538    0.119226  0.264685  0.357610  \n",
       "1  0.147650         0.221600    0.050116  0.111800  0.132083  "
      ]
     },
     "execution_count": 132,
     "metadata": {},
     "output_type": "execute_result"
    }
   ],
   "source": [
    "theme_df"
   ]
  },
  {
   "cell_type": "code",
   "execution_count": 133,
   "id": "6ffce5d7",
   "metadata": {},
   "outputs": [
    {
     "data": {
      "text/html": [
       "<div>\n",
       "<style scoped>\n",
       "    .dataframe tbody tr th:only-of-type {\n",
       "        vertical-align: middle;\n",
       "    }\n",
       "\n",
       "    .dataframe tbody tr th {\n",
       "        vertical-align: top;\n",
       "    }\n",
       "\n",
       "    .dataframe thead th {\n",
       "        text-align: right;\n",
       "    }\n",
       "</style>\n",
       "<table border=\"1\" class=\"dataframe\">\n",
       "  <thead>\n",
       "    <tr style=\"text-align: right;\">\n",
       "      <th></th>\n",
       "      <th>episode</th>\n",
       "      <th>scripts</th>\n",
       "      <th>conflict</th>\n",
       "      <th>drama</th>\n",
       "      <th>betrayal</th>\n",
       "      <th>office</th>\n",
       "      <th>secret relationship</th>\n",
       "      <th>fake dating</th>\n",
       "      <th>humor</th>\n",
       "      <th>dating</th>\n",
       "      <th>CEO</th>\n",
       "      <th>comedy</th>\n",
       "      <th>family</th>\n",
       "      <th>jealousy</th>\n",
       "      <th>marriage</th>\n",
       "      <th>romantic comedy</th>\n",
       "      <th>friendship</th>\n",
       "      <th>love</th>\n",
       "      <th>romance</th>\n",
       "      <th>business</th>\n",
       "    </tr>\n",
       "  </thead>\n",
       "  <tbody>\n",
       "    <tr>\n",
       "      <th>0</th>\n",
       "      <td>1</td>\n",
       "      <td>I think I’ve made a huge mistake.\\n I need tim...</td>\n",
       "      <td>0.955943</td>\n",
       "      <td>0.782215</td>\n",
       "      <td>0.705983</td>\n",
       "      <td>0.709196</td>\n",
       "      <td>0.787361</td>\n",
       "      <td>0.712582</td>\n",
       "      <td>0.315876</td>\n",
       "      <td>0.770508</td>\n",
       "      <td>0.437857</td>\n",
       "      <td>0.256711</td>\n",
       "      <td>0.288362</td>\n",
       "      <td>0.174682</td>\n",
       "      <td>0.102401</td>\n",
       "      <td>0.177538</td>\n",
       "      <td>0.119226</td>\n",
       "      <td>0.264685</td>\n",
       "      <td>0.357610</td>\n",
       "      <td>0.79658</td>\n",
       "    </tr>\n",
       "    <tr>\n",
       "      <th>1</th>\n",
       "      <td>2</td>\n",
       "      <td>I didn't come here to fall in love.\\n If it’s ...</td>\n",
       "      <td>0.955196</td>\n",
       "      <td>0.804672</td>\n",
       "      <td>0.930403</td>\n",
       "      <td>0.597145</td>\n",
       "      <td>0.835442</td>\n",
       "      <td>0.909900</td>\n",
       "      <td>0.085617</td>\n",
       "      <td>0.928606</td>\n",
       "      <td>0.548359</td>\n",
       "      <td>0.136540</td>\n",
       "      <td>0.487014</td>\n",
       "      <td>0.318506</td>\n",
       "      <td>0.147650</td>\n",
       "      <td>0.221600</td>\n",
       "      <td>0.050116</td>\n",
       "      <td>0.111800</td>\n",
       "      <td>0.132083</td>\n",
       "      <td>0.98531</td>\n",
       "    </tr>\n",
       "  </tbody>\n",
       "</table>\n",
       "</div>"
      ],
      "text/plain": [
       "   episode                                            scripts  conflict  \\\n",
       "0        1  I think I’ve made a huge mistake.\\n I need tim...  0.955943   \n",
       "1        2  I didn't come here to fall in love.\\n If it’s ...  0.955196   \n",
       "\n",
       "      drama  betrayal    office  secret relationship  fake dating     humor  \\\n",
       "0  0.782215  0.705983  0.709196             0.787361     0.712582  0.315876   \n",
       "1  0.804672  0.930403  0.597145             0.835442     0.909900  0.085617   \n",
       "\n",
       "     dating       CEO    comedy    family  jealousy  marriage  \\\n",
       "0  0.770508  0.437857  0.256711  0.288362  0.174682  0.102401   \n",
       "1  0.928606  0.548359  0.136540  0.487014  0.318506  0.147650   \n",
       "\n",
       "   romantic comedy  friendship      love   romance  business  \n",
       "0         0.177538    0.119226  0.264685  0.357610   0.79658  \n",
       "1         0.221600    0.050116  0.111800  0.132083   0.98531  "
      ]
     },
     "execution_count": 133,
     "metadata": {},
     "output_type": "execute_result"
    }
   ],
   "source": [
    "df[theme_df.columns] = theme_df\n",
    "df"
   ]
  },
  {
   "cell_type": "markdown",
   "id": "32017665",
   "metadata": {},
   "source": [
    "## Visualize output"
   ]
  },
  {
   "cell_type": "code",
   "execution_count": 134,
   "id": "33507f15",
   "metadata": {},
   "outputs": [],
   "source": [
    "theme_output = df.drop(['episode', 'scripts'], axis=1).sum().reset_index()\n",
    "theme_output.columns =['theme', 'score']"
   ]
  },
  {
   "cell_type": "code",
   "execution_count": 135,
   "id": "b0cf718a",
   "metadata": {},
   "outputs": [
    {
     "data": {
      "text/html": [
       "<div>\n",
       "<style scoped>\n",
       "    .dataframe tbody tr th:only-of-type {\n",
       "        vertical-align: middle;\n",
       "    }\n",
       "\n",
       "    .dataframe tbody tr th {\n",
       "        vertical-align: top;\n",
       "    }\n",
       "\n",
       "    .dataframe thead th {\n",
       "        text-align: right;\n",
       "    }\n",
       "</style>\n",
       "<table border=\"1\" class=\"dataframe\">\n",
       "  <thead>\n",
       "    <tr style=\"text-align: right;\">\n",
       "      <th></th>\n",
       "      <th>theme</th>\n",
       "      <th>score</th>\n",
       "    </tr>\n",
       "  </thead>\n",
       "  <tbody>\n",
       "    <tr>\n",
       "      <th>0</th>\n",
       "      <td>conflict</td>\n",
       "      <td>1.911139</td>\n",
       "    </tr>\n",
       "    <tr>\n",
       "      <th>1</th>\n",
       "      <td>drama</td>\n",
       "      <td>1.586887</td>\n",
       "    </tr>\n",
       "    <tr>\n",
       "      <th>2</th>\n",
       "      <td>betrayal</td>\n",
       "      <td>1.636386</td>\n",
       "    </tr>\n",
       "    <tr>\n",
       "      <th>3</th>\n",
       "      <td>office</td>\n",
       "      <td>1.306341</td>\n",
       "    </tr>\n",
       "    <tr>\n",
       "      <th>4</th>\n",
       "      <td>secret relationship</td>\n",
       "      <td>1.622802</td>\n",
       "    </tr>\n",
       "    <tr>\n",
       "      <th>5</th>\n",
       "      <td>fake dating</td>\n",
       "      <td>1.622482</td>\n",
       "    </tr>\n",
       "    <tr>\n",
       "      <th>6</th>\n",
       "      <td>humor</td>\n",
       "      <td>0.401493</td>\n",
       "    </tr>\n",
       "    <tr>\n",
       "      <th>7</th>\n",
       "      <td>dating</td>\n",
       "      <td>1.699114</td>\n",
       "    </tr>\n",
       "    <tr>\n",
       "      <th>8</th>\n",
       "      <td>CEO</td>\n",
       "      <td>0.986216</td>\n",
       "    </tr>\n",
       "    <tr>\n",
       "      <th>9</th>\n",
       "      <td>comedy</td>\n",
       "      <td>0.393251</td>\n",
       "    </tr>\n",
       "    <tr>\n",
       "      <th>10</th>\n",
       "      <td>family</td>\n",
       "      <td>0.775376</td>\n",
       "    </tr>\n",
       "    <tr>\n",
       "      <th>11</th>\n",
       "      <td>jealousy</td>\n",
       "      <td>0.493188</td>\n",
       "    </tr>\n",
       "    <tr>\n",
       "      <th>12</th>\n",
       "      <td>marriage</td>\n",
       "      <td>0.250052</td>\n",
       "    </tr>\n",
       "    <tr>\n",
       "      <th>13</th>\n",
       "      <td>romantic comedy</td>\n",
       "      <td>0.399138</td>\n",
       "    </tr>\n",
       "    <tr>\n",
       "      <th>14</th>\n",
       "      <td>friendship</td>\n",
       "      <td>0.169342</td>\n",
       "    </tr>\n",
       "    <tr>\n",
       "      <th>15</th>\n",
       "      <td>love</td>\n",
       "      <td>0.376485</td>\n",
       "    </tr>\n",
       "    <tr>\n",
       "      <th>16</th>\n",
       "      <td>romance</td>\n",
       "      <td>0.489693</td>\n",
       "    </tr>\n",
       "    <tr>\n",
       "      <th>17</th>\n",
       "      <td>business</td>\n",
       "      <td>1.781891</td>\n",
       "    </tr>\n",
       "  </tbody>\n",
       "</table>\n",
       "</div>"
      ],
      "text/plain": [
       "                  theme     score\n",
       "0              conflict  1.911139\n",
       "1                 drama  1.586887\n",
       "2              betrayal  1.636386\n",
       "3                office  1.306341\n",
       "4   secret relationship  1.622802\n",
       "5           fake dating  1.622482\n",
       "6                 humor  0.401493\n",
       "7                dating  1.699114\n",
       "8                   CEO  0.986216\n",
       "9                comedy  0.393251\n",
       "10               family  0.775376\n",
       "11             jealousy  0.493188\n",
       "12             marriage  0.250052\n",
       "13      romantic comedy  0.399138\n",
       "14           friendship  0.169342\n",
       "15                 love  0.376485\n",
       "16              romance  0.489693\n",
       "17             business  1.781891"
      ]
     },
     "execution_count": 135,
     "metadata": {},
     "output_type": "execute_result"
    }
   ],
   "source": [
    "theme_output"
   ]
  },
  {
   "cell_type": "code",
   "execution_count": 136,
   "id": "0923298f",
   "metadata": {},
   "outputs": [],
   "source": [
    "import matplotlib.pyplot as plt\n",
    "import seaborn as sns"
   ]
  },
  {
   "cell_type": "code",
   "execution_count": 137,
   "id": "92a11240",
   "metadata": {},
   "outputs": [
    {
     "data": {
      "image/png": "[encoded data removed]",
      "text/plain": [
       "<Figure size 640x480 with 1 Axes>"
      ]
     },
     "metadata": {},
     "output_type": "display_data"
    }
   ],
   "source": [
    "sns.barplot(data = theme_output, x=\"theme\", y=\"score\")\n",
    "plt.xticks(rotation=50)\n",
    "plt.show()"
   ]
  }
 ],
 "metadata": {
  "kernelspec": {
   "display_name": "tf_gpu",
   "language": "python",
   "name": "python3"
  },
  "language_info": {
   "codemirror_mode": {
    "name": "ipython",
    "version": 3
   },
   "file_extension": ".py",
   "mimetype": "text/x-python",
   "name": "python",
   "nbconvert_exporter": "python",
   "pygments_lexer": "ipython3",
   "version": "3.10.16"
  }
 },
 "nbformat": 4,
 "nbformat_minor": 5
}
