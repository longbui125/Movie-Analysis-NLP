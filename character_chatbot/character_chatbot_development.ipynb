{
 "cells": [
  {
   "cell_type": "code",
   "execution_count": 39,
   "id": "bab45505",
   "metadata": {},
   "outputs": [],
   "source": [
    "import pandas as pd\n",
    "import re\n",
    "from datasets import Dataset"
   ]
  },
  {
   "cell_type": "markdown",
   "id": "8f22c650",
   "metadata": {},
   "source": [
    "## Load dataset"
   ]
  },
  {
   "cell_type": "code",
   "execution_count": 19,
   "id": "d885c949",
   "metadata": {},
   "outputs": [
    {
     "data": {
      "text/html": [
       "<div>\n",
       "<style scoped>\n",
       "    .dataframe tbody tr th:only-of-type {\n",
       "        vertical-align: middle;\n",
       "    }\n",
       "\n",
       "    .dataframe tbody tr th {\n",
       "        vertical-align: top;\n",
       "    }\n",
       "\n",
       "    .dataframe thead th {\n",
       "        text-align: right;\n",
       "    }\n",
       "</style>\n",
       "<table border=\"1\" class=\"dataframe\">\n",
       "  <thead>\n",
       "    <tr style=\"text-align: right;\">\n",
       "      <th></th>\n",
       "      <th>name</th>\n",
       "      <th>line</th>\n",
       "    </tr>\n",
       "  </thead>\n",
       "  <tbody>\n",
       "    <tr>\n",
       "      <th>0</th>\n",
       "      <td>Receptionist</td>\n",
       "      <td>Oh! I wasn’t eavesdropping, I swear!</td>\n",
       "    </tr>\n",
       "    <tr>\n",
       "      <th>1</th>\n",
       "      <td>Receptionist</td>\n",
       "      <td>You have a meeting… I mean, you *had* a meetin...</td>\n",
       "    </tr>\n",
       "    <tr>\n",
       "      <th>2</th>\n",
       "      <td>Receptionist</td>\n",
       "      <td>I pressed the wrong button again. Sorry!</td>\n",
       "    </tr>\n",
       "    <tr>\n",
       "      <th>3</th>\n",
       "      <td>Receptionist</td>\n",
       "      <td>I always mess up when he walks in. He’s too ha...</td>\n",
       "    </tr>\n",
       "    <tr>\n",
       "      <th>4</th>\n",
       "      <td>Receptionist</td>\n",
       "      <td>I can’t believe I spilled coffee on the CEO’s ...</td>\n",
       "    </tr>\n",
       "  </tbody>\n",
       "</table>\n",
       "</div>"
      ],
      "text/plain": [
       "           name                                               line\n",
       "0  Receptionist               Oh! I wasn’t eavesdropping, I swear!\n",
       "1  Receptionist  You have a meeting… I mean, you *had* a meetin...\n",
       "2  Receptionist           I pressed the wrong button again. Sorry!\n",
       "3  Receptionist  I always mess up when he walks in. He’s too ha...\n",
       "4  Receptionist  I can’t believe I spilled coffee on the CEO’s ..."
      ]
     },
     "execution_count": 19,
     "metadata": {},
     "output_type": "execute_result"
    }
   ],
   "source": [
    "data_path = \"../dataset/business_proposal.csv\"\n",
    "bs_transcript_df = pd.read_csv(data_path)\n",
    "bs_transcript_df.head()"
   ]
  },
  {
   "cell_type": "code",
   "execution_count": 20,
   "id": "28ecb5a5",
   "metadata": {},
   "outputs": [],
   "source": [
    "#Remove paranthesis\n",
    "def remove_paranthesis(text):\n",
    "    result = re.sub(r'\\(.*?\\)', '', text)\n",
    "\n",
    "    return result"
   ]
  },
  {
   "cell_type": "code",
   "execution_count": 21,
   "id": "ec5e5102",
   "metadata": {},
   "outputs": [],
   "source": [
    "bs_transcript_df['line'] = bs_transcript_df['line'].apply(remove_paranthesis)"
   ]
  },
  {
   "cell_type": "code",
   "execution_count": 22,
   "id": "64878af3",
   "metadata": {},
   "outputs": [
    {
     "data": {
      "text/html": [
       "<div>\n",
       "<style scoped>\n",
       "    .dataframe tbody tr th:only-of-type {\n",
       "        vertical-align: middle;\n",
       "    }\n",
       "\n",
       "    .dataframe tbody tr th {\n",
       "        vertical-align: top;\n",
       "    }\n",
       "\n",
       "    .dataframe thead th {\n",
       "        text-align: right;\n",
       "    }\n",
       "</style>\n",
       "<table border=\"1\" class=\"dataframe\">\n",
       "  <thead>\n",
       "    <tr style=\"text-align: right;\">\n",
       "      <th></th>\n",
       "      <th>name</th>\n",
       "      <th>line</th>\n",
       "    </tr>\n",
       "  </thead>\n",
       "  <tbody>\n",
       "    <tr>\n",
       "      <th>0</th>\n",
       "      <td>Receptionist</td>\n",
       "      <td>Oh! I wasn’t eavesdropping, I swear!</td>\n",
       "    </tr>\n",
       "    <tr>\n",
       "      <th>1</th>\n",
       "      <td>Receptionist</td>\n",
       "      <td>You have a meeting… I mean, you *had* a meetin...</td>\n",
       "    </tr>\n",
       "    <tr>\n",
       "      <th>2</th>\n",
       "      <td>Receptionist</td>\n",
       "      <td>I pressed the wrong button again. Sorry!</td>\n",
       "    </tr>\n",
       "    <tr>\n",
       "      <th>3</th>\n",
       "      <td>Receptionist</td>\n",
       "      <td>I always mess up when he walks in. He’s too ha...</td>\n",
       "    </tr>\n",
       "    <tr>\n",
       "      <th>4</th>\n",
       "      <td>Receptionist</td>\n",
       "      <td>I can’t believe I spilled coffee on the CEO’s ...</td>\n",
       "    </tr>\n",
       "  </tbody>\n",
       "</table>\n",
       "</div>"
      ],
      "text/plain": [
       "           name                                               line\n",
       "0  Receptionist               Oh! I wasn’t eavesdropping, I swear!\n",
       "1  Receptionist  You have a meeting… I mean, you *had* a meetin...\n",
       "2  Receptionist           I pressed the wrong button again. Sorry!\n",
       "3  Receptionist  I always mess up when he walks in. He’s too ha...\n",
       "4  Receptionist  I can’t believe I spilled coffee on the CEO’s ..."
      ]
     },
     "execution_count": 22,
     "metadata": {},
     "output_type": "execute_result"
    }
   ],
   "source": [
    "bs_transcript_df.head()"
   ]
  },
  {
   "cell_type": "code",
   "execution_count": 23,
   "id": "479f6ad7",
   "metadata": {},
   "outputs": [],
   "source": [
    "bs_transcript_df['number_of_words'] = bs_transcript_df['line'].str.strip().str.split(\" \")\n",
    "bs_transcript_df['number_of_words'] = bs_transcript_df['number_of_words'].apply(lambda x: len(x))\n"
   ]
  },
  {
   "cell_type": "code",
   "execution_count": 24,
   "id": "82ad6cc4",
   "metadata": {},
   "outputs": [
    {
     "data": {
      "text/html": [
       "<div>\n",
       "<style scoped>\n",
       "    .dataframe tbody tr th:only-of-type {\n",
       "        vertical-align: middle;\n",
       "    }\n",
       "\n",
       "    .dataframe tbody tr th {\n",
       "        vertical-align: top;\n",
       "    }\n",
       "\n",
       "    .dataframe thead th {\n",
       "        text-align: right;\n",
       "    }\n",
       "</style>\n",
       "<table border=\"1\" class=\"dataframe\">\n",
       "  <thead>\n",
       "    <tr style=\"text-align: right;\">\n",
       "      <th></th>\n",
       "      <th>name</th>\n",
       "      <th>line</th>\n",
       "      <th>number_of_words</th>\n",
       "    </tr>\n",
       "  </thead>\n",
       "  <tbody>\n",
       "    <tr>\n",
       "      <th>0</th>\n",
       "      <td>Receptionist</td>\n",
       "      <td>Oh! I wasn’t eavesdropping, I swear!</td>\n",
       "      <td>6</td>\n",
       "    </tr>\n",
       "    <tr>\n",
       "      <th>1</th>\n",
       "      <td>Receptionist</td>\n",
       "      <td>You have a meeting… I mean, you *had* a meetin...</td>\n",
       "      <td>13</td>\n",
       "    </tr>\n",
       "    <tr>\n",
       "      <th>2</th>\n",
       "      <td>Receptionist</td>\n",
       "      <td>I pressed the wrong button again. Sorry!</td>\n",
       "      <td>7</td>\n",
       "    </tr>\n",
       "    <tr>\n",
       "      <th>3</th>\n",
       "      <td>Receptionist</td>\n",
       "      <td>I always mess up when he walks in. He’s too ha...</td>\n",
       "      <td>11</td>\n",
       "    </tr>\n",
       "    <tr>\n",
       "      <th>4</th>\n",
       "      <td>Receptionist</td>\n",
       "      <td>I can’t believe I spilled coffee on the CEO’s ...</td>\n",
       "      <td>10</td>\n",
       "    </tr>\n",
       "  </tbody>\n",
       "</table>\n",
       "</div>"
      ],
      "text/plain": [
       "           name                                               line  \\\n",
       "0  Receptionist               Oh! I wasn’t eavesdropping, I swear!   \n",
       "1  Receptionist  You have a meeting… I mean, you *had* a meetin...   \n",
       "2  Receptionist           I pressed the wrong button again. Sorry!   \n",
       "3  Receptionist  I always mess up when he walks in. He’s too ha...   \n",
       "4  Receptionist  I can’t believe I spilled coffee on the CEO’s ...   \n",
       "\n",
       "   number_of_words  \n",
       "0                6  \n",
       "1               13  \n",
       "2                7  \n",
       "3               11  \n",
       "4               10  "
      ]
     },
     "execution_count": 24,
     "metadata": {},
     "output_type": "execute_result"
    }
   ],
   "source": [
    "bs_transcript_df.head()"
   ]
  },
  {
   "cell_type": "code",
   "execution_count": 29,
   "id": "7f57f14f",
   "metadata": {},
   "outputs": [],
   "source": [
    "name = 'Kang Tae-moo'\n",
    "bs_transcript_df[\"KangTaeMoo_respone_flag\"] = 0\n",
    "bs_transcript_df.loc[(bs_transcript_df['name'] == name) & (bs_transcript_df['number_of_words']>4), 'KangTaeMoo_respone_flag']=1 "
   ]
  },
  {
   "cell_type": "code",
   "execution_count": 30,
   "id": "75e5df76",
   "metadata": {},
   "outputs": [
    {
     "data": {
      "text/html": [
       "<div>\n",
       "<style scoped>\n",
       "    .dataframe tbody tr th:only-of-type {\n",
       "        vertical-align: middle;\n",
       "    }\n",
       "\n",
       "    .dataframe tbody tr th {\n",
       "        vertical-align: top;\n",
       "    }\n",
       "\n",
       "    .dataframe thead th {\n",
       "        text-align: right;\n",
       "    }\n",
       "</style>\n",
       "<table border=\"1\" class=\"dataframe\">\n",
       "  <thead>\n",
       "    <tr style=\"text-align: right;\">\n",
       "      <th></th>\n",
       "      <th>name</th>\n",
       "      <th>line</th>\n",
       "      <th>number_of_words</th>\n",
       "      <th>KangTaeMoo_respone_flag</th>\n",
       "    </tr>\n",
       "  </thead>\n",
       "  <tbody>\n",
       "    <tr>\n",
       "      <th>0</th>\n",
       "      <td>Receptionist</td>\n",
       "      <td>Oh! I wasn’t eavesdropping, I swear!</td>\n",
       "      <td>6</td>\n",
       "      <td>0</td>\n",
       "    </tr>\n",
       "    <tr>\n",
       "      <th>1</th>\n",
       "      <td>Receptionist</td>\n",
       "      <td>You have a meeting… I mean, you *had* a meetin...</td>\n",
       "      <td>13</td>\n",
       "      <td>0</td>\n",
       "    </tr>\n",
       "    <tr>\n",
       "      <th>2</th>\n",
       "      <td>Receptionist</td>\n",
       "      <td>I pressed the wrong button again. Sorry!</td>\n",
       "      <td>7</td>\n",
       "      <td>0</td>\n",
       "    </tr>\n",
       "    <tr>\n",
       "      <th>3</th>\n",
       "      <td>Receptionist</td>\n",
       "      <td>I always mess up when he walks in. He’s too ha...</td>\n",
       "      <td>11</td>\n",
       "      <td>0</td>\n",
       "    </tr>\n",
       "    <tr>\n",
       "      <th>4</th>\n",
       "      <td>Receptionist</td>\n",
       "      <td>I can’t believe I spilled coffee on the CEO’s ...</td>\n",
       "      <td>10</td>\n",
       "      <td>0</td>\n",
       "    </tr>\n",
       "    <tr>\n",
       "      <th>...</th>\n",
       "      <td>...</td>\n",
       "      <td>...</td>\n",
       "      <td>...</td>\n",
       "      <td>...</td>\n",
       "    </tr>\n",
       "    <tr>\n",
       "      <th>344</th>\n",
       "      <td>Shin Ha-Ri's Dad</td>\n",
       "      <td>He better have a stable income and stable emot...</td>\n",
       "      <td>9</td>\n",
       "      <td>0</td>\n",
       "    </tr>\n",
       "    <tr>\n",
       "      <th>345</th>\n",
       "      <td>Shin Ha-Ri's Dad</td>\n",
       "      <td>I raised you to stand tall—even in heels.</td>\n",
       "      <td>8</td>\n",
       "      <td>0</td>\n",
       "    </tr>\n",
       "    <tr>\n",
       "      <th>346</th>\n",
       "      <td>Shin Ha-Ri's Dad</td>\n",
       "      <td>If he leaves you, I’ll chase him with this sli...</td>\n",
       "      <td>10</td>\n",
       "      <td>0</td>\n",
       "    </tr>\n",
       "    <tr>\n",
       "      <th>347</th>\n",
       "      <td>Shin Ha-Ri's Dad</td>\n",
       "      <td>You shine, with or without him.</td>\n",
       "      <td>6</td>\n",
       "      <td>0</td>\n",
       "    </tr>\n",
       "    <tr>\n",
       "      <th>348</th>\n",
       "      <td>Shin Ha-Ri's Dad</td>\n",
       "      <td>Let’s not fight tonight. Let’s eat instead.</td>\n",
       "      <td>7</td>\n",
       "      <td>0</td>\n",
       "    </tr>\n",
       "  </tbody>\n",
       "</table>\n",
       "<p>349 rows × 4 columns</p>\n",
       "</div>"
      ],
      "text/plain": [
       "                 name                                               line  \\\n",
       "0        Receptionist               Oh! I wasn’t eavesdropping, I swear!   \n",
       "1        Receptionist  You have a meeting… I mean, you *had* a meetin...   \n",
       "2        Receptionist           I pressed the wrong button again. Sorry!   \n",
       "3        Receptionist  I always mess up when he walks in. He’s too ha...   \n",
       "4        Receptionist  I can’t believe I spilled coffee on the CEO’s ...   \n",
       "..                ...                                                ...   \n",
       "344  Shin Ha-Ri's Dad  He better have a stable income and stable emot...   \n",
       "345  Shin Ha-Ri's Dad          I raised you to stand tall—even in heels.   \n",
       "346  Shin Ha-Ri's Dad  If he leaves you, I’ll chase him with this sli...   \n",
       "347  Shin Ha-Ri's Dad                    You shine, with or without him.   \n",
       "348  Shin Ha-Ri's Dad        Let’s not fight tonight. Let’s eat instead.   \n",
       "\n",
       "     number_of_words  KangTaeMoo_respone_flag  \n",
       "0                  6                        0  \n",
       "1                 13                        0  \n",
       "2                  7                        0  \n",
       "3                 11                        0  \n",
       "4                 10                        0  \n",
       "..               ...                      ...  \n",
       "344                9                        0  \n",
       "345                8                        0  \n",
       "346               10                        0  \n",
       "347                6                        0  \n",
       "348                7                        0  \n",
       "\n",
       "[349 rows x 4 columns]"
      ]
     },
     "execution_count": 30,
     "metadata": {},
     "output_type": "execute_result"
    }
   ],
   "source": [
    "bs_transcript_df"
   ]
  },
  {
   "cell_type": "code",
   "execution_count": 31,
   "id": "32f55d8c",
   "metadata": {},
   "outputs": [],
   "source": [
    "index_to_take = list(bs_transcript_df[(bs_transcript_df['KangTaeMoo_respone_flag']==1)&(bs_transcript_df.index>0)].index)"
   ]
  },
  {
   "cell_type": "code",
   "execution_count": 32,
   "id": "b8941b77",
   "metadata": {},
   "outputs": [
    {
     "data": {
      "text/plain": [
       "[35, 36, 37, 38, 39]"
      ]
     },
     "execution_count": 32,
     "metadata": {},
     "output_type": "execute_result"
    }
   ],
   "source": [
    "index_to_take[:5]"
   ]
  },
  {
   "cell_type": "code",
   "execution_count": 41,
   "id": "94a18692",
   "metadata": {},
   "outputs": [],
   "source": [
    "system_prompt = \"\"\" You are Kang Tae-moo from the movie \"Business Proposal\". Your respone should reflect his personality and speech partern \\n\"\"\"\n",
    "\n",
    "prompts = []\n",
    "for ind in index_to_take:\n",
    "    prompt = system_prompt\n",
    "\n",
    "    prompt += bs_transcript_df.iloc[ind -1]['line']\n",
    "    prompt += '\\n'\n",
    "    prompt += bs_transcript_df.iloc[ind]['line']\n",
    "    prompts.append(prompt)"
   ]
  },
  {
   "cell_type": "code",
   "execution_count": 42,
   "id": "19005d0f",
   "metadata": {},
   "outputs": [
    {
     "name": "stdout",
     "output_type": "stream",
     "text": [
      " You are Kang Tae-moo from the movie \"Business Proposal\". Your respone should reflect his personality and speech partern \n",
      "Why is adulting allowed without training?\n",
      "This isn't about business. It's about trust.\n"
     ]
    }
   ],
   "source": [
    "print(prompts[0])"
   ]
  },
  {
   "cell_type": "code",
   "execution_count": 43,
   "id": "269775f8",
   "metadata": {},
   "outputs": [
    {
     "data": {
      "text/html": [
       "<div>\n",
       "<style scoped>\n",
       "    .dataframe tbody tr th:only-of-type {\n",
       "        vertical-align: middle;\n",
       "    }\n",
       "\n",
       "    .dataframe tbody tr th {\n",
       "        vertical-align: top;\n",
       "    }\n",
       "\n",
       "    .dataframe thead th {\n",
       "        text-align: right;\n",
       "    }\n",
       "</style>\n",
       "<table border=\"1\" class=\"dataframe\">\n",
       "  <thead>\n",
       "    <tr style=\"text-align: right;\">\n",
       "      <th></th>\n",
       "      <th>prompts</th>\n",
       "    </tr>\n",
       "  </thead>\n",
       "  <tbody>\n",
       "    <tr>\n",
       "      <th>0</th>\n",
       "      <td>You are Kang Tae-moo from the movie \"Business...</td>\n",
       "    </tr>\n",
       "    <tr>\n",
       "      <th>1</th>\n",
       "      <td>You are Kang Tae-moo from the movie \"Business...</td>\n",
       "    </tr>\n",
       "    <tr>\n",
       "      <th>2</th>\n",
       "      <td>You are Kang Tae-moo from the movie \"Business...</td>\n",
       "    </tr>\n",
       "    <tr>\n",
       "      <th>3</th>\n",
       "      <td>You are Kang Tae-moo from the movie \"Business...</td>\n",
       "    </tr>\n",
       "    <tr>\n",
       "      <th>4</th>\n",
       "      <td>You are Kang Tae-moo from the movie \"Business...</td>\n",
       "    </tr>\n",
       "  </tbody>\n",
       "</table>\n",
       "</div>"
      ],
      "text/plain": [
       "                                             prompts\n",
       "0   You are Kang Tae-moo from the movie \"Business...\n",
       "1   You are Kang Tae-moo from the movie \"Business...\n",
       "2   You are Kang Tae-moo from the movie \"Business...\n",
       "3   You are Kang Tae-moo from the movie \"Business...\n",
       "4   You are Kang Tae-moo from the movie \"Business..."
      ]
     },
     "execution_count": 43,
     "metadata": {},
     "output_type": "execute_result"
    }
   ],
   "source": [
    "df = pd.DataFrame({\"prompts\": prompts})\n",
    "df.head()"
   ]
  },
  {
   "cell_type": "code",
   "execution_count": 40,
   "id": "7e1efddd",
   "metadata": {},
   "outputs": [],
   "source": [
    "dataset = Dataset.from_pandas(df)"
   ]
  },
  {
   "cell_type": "code",
   "execution_count": null,
   "id": "cee7bcf8",
   "metadata": {},
   "outputs": [],
   "source": []
  }
 ],
 "metadata": {
  "kernelspec": {
   "display_name": "tf_gpu",
   "language": "python",
   "name": "python3"
  },
  "language_info": {
   "codemirror_mode": {
    "name": "ipython",
    "version": 3
   },
   "file_extension": ".py",
   "mimetype": "text/x-python",
   "name": "python",
   "nbconvert_exporter": "python",
   "pygments_lexer": "ipython3",
   "version": "3.10.16"
  }
 },
 "nbformat": 4,
 "nbformat_minor": 5
}
